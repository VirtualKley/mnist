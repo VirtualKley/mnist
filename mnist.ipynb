{
 "cells": [
  {
   "cell_type": "code",
   "execution_count": 1,
   "metadata": {},
   "outputs": [],
   "source": [
    "import numpy as np\n",
    "import matplotlib.pyplot as plt\n",
    "plt.rcParams['figure.figsize'] = (7,7) #Genera las figuras un poco mas grandes"
   ]
  },
  {
   "cell_type": "code",
   "execution_count": 2,
   "metadata": {},
   "outputs": [
    {
     "name": "stderr",
     "output_type": "stream",
     "text": [
      "Using TensorFlow backend.\n"
     ]
    }
   ],
   "source": [
    "from keras.datasets import mnist\n",
    "from keras.models import Sequential\n",
    "from keras.layers.core import Dense, Activation, Dropout\n",
    "from keras.utils import np_utils"
   ]
  },
  {
   "cell_type": "markdown",
   "metadata": {},
   "source": [
    "Lineas de codigo comentadas <br>\n",
    "Linea 1. Se refiere al numero que salidas que tendra la red neuronal en este caso al ser la data de mnist que esta contiene como resultado 10 salidas distintas (digitos de 0 al 9) <br>\n",
    "Linea 2. Se mezclan y se dividen los datos entre los de entrenamient y test"
   ]
  },
  {
   "cell_type": "code",
   "execution_count": 4,
   "metadata": {},
   "outputs": [
    {
     "name": "stdout",
     "output_type": "stream",
     "text": [
      "A local file was found, but it seems to be incomplete or outdated because the auto file hash does not match the original value of 8a61469f7ea1b51cbae51d4f78837e45 so we will re-download the data.\n",
      "Downloading data from https://s3.amazonaws.com/img-datasets/mnist.npz\n",
      "11493376/11490434 [==============================] - 302s 26us/step\n",
      "X_train original shape (60000, 28, 28)\n",
      "y_train original shape (60000,)\n"
     ]
    }
   ],
   "source": [
    "nb_classes=10 #Se refiere al numero de salidas que tendra la red neuronal\n",
    "(X_train, y_train), (X_test, y_test) = mnist.load_data()\n",
    "print(\"X_train original shape\", X_train.shape)\n",
    "print(\"y_train original shape\", y_train.shape)"
   ]
  },
  {
   "cell_type": "markdown",
   "metadata": {},
   "source": [
    "Se procede a usar matplot para poder graficar los datos que al principio se encuentran como un vector <br>\n",
    "Se usa imshow para traducir los datos de vectores a bit y usando atributos cmap se usa para colocar las graficas en escala de grises"
   ]
  },
  {
   "cell_type": "code",
   "execution_count": 18,
   "metadata": {},
   "outputs": [
    {
     "data": {
      "image/png": "[encoded data removed]",
      "text/plain": [
       "<Figure size 432x288 with 9 Axes>"
      ]
     },
     "metadata": {
      "needs_background": "light"
     },
     "output_type": "display_data"
    }
   ],
   "source": [
    "for i in range(9):\n",
    "    plt.subplot(3,3,i+1)\n",
    "    plt.imshow(X_train[i], cmap=\"gray\", interpolation='none')\n",
    "    plt.title(\"Clase {:.1f}\".format(y_train[i]))"
   ]
  },
  {
   "cell_type": "markdown",
   "metadata": {},
   "source": [
    "A continuacion se procedera a tomar un solo vector por cada entrenamiento (numero) por lo cual se debe rediseñar el modelo, en este caso las imagenes contiene un ancho y largo de 28 pixeles por lo que al crear un unico vector que contiene la multiplicacion de ambos el cual serian 784 dimensiones.<br>\n",
    "Se resideñaran las entradas para que no esten en la escala del 0-255 sino entre 0-1<br>\n",
    "Se debe tener en cuenta que:<br>\n",
    "* Los datos para el entrenamiento consta de **60000** (X_train)\n",
    "* Los datos para el testeo consta de **10000** (X_test)\n",
    "* La escala de blanco y negro esta en el rango de 0 a 255"
   ]
  },
  {
   "cell_type": "code",
   "execution_count": 24,
   "metadata": {},
   "outputs": [
    {
     "name": "stdout",
     "output_type": "stream",
     "text": [
      "Caracteristica de la matriz de entrenamiento= (60000, 784)\n",
      "Caracteristica de la matriz de testeo= (10000, 784)\n"
     ]
    }
   ],
   "source": [
    "X_train = X_train.reshape(60000,784)\n",
    "X_test = X_test.reshape(10000,784)\n",
    "X_train = X_train.astype('float32')\n",
    "X_test = X_test.astype('float32')\n",
    "X_train /= 255\n",
    "X_test /= 255\n",
    "print(\"Caracteristica de la matriz de entrenamiento= {}\".format(X_train.shape))\n",
    "print(\"Caracteristica de la matriz de testeo= {}\".format(X_test.shape))"
   ]
  },
  {
   "cell_type": "markdown",
   "metadata": {},
   "source": [
    "Con la clase *\"to_categorical\"* se procede a convertir una matriz con tantos numeros de clases existen en este caso se le coloca 10 ya que son las clases de salidas del sistema.\n",
    "1. Ahora consta con una caracteristica de (60000, 10)"
   ]
  },
  {
   "cell_type": "code",
   "execution_count": 25,
   "metadata": {},
   "outputs": [],
   "source": [
    "Y_train = np_utils.to_categorical(y_train, nb_classes)\n",
    "Y_test = np_utils.to_categorical(y_test, nb_classes)"
   ]
  },
  {
   "cell_type": "markdown",
   "metadata": {},
   "source": [
    "<h1> Construccion de la red neuronal</h1> <br>\n",
    "Para este caso la red neuronal constara de 3 capas de neuronas en donde:<br>\n",
    "1. La primera y segunda capa constara de 512 nodos <br>\n",
    "2. Usaran la funcion de activacion RELU el cual da un resultado de 0 a Z<br>\n",
    "3. La tercera capa (Salida) constara de 10 nodos (Se colocan 10 porque los resultados que se daran son del 0 al 10)<br>\n",
    "4. Usara la funcion de activacion SOFTMAX el cual arrojara como resultado de la funcion de activacion 0 a 1<br><br>\n",
    "La funcion Dropout permite que el modelo no exista un overfitting el cual causa que el modelo sepa de memoria de respuesta el cual esto no sirve a la hora de predecir con nuevos ejemplos, en la cual se selecciona nodos que se saldran con una probabilidad determinada (por lo general del 20% o 0.2)"
   ]
  },
  {
   "cell_type": "code",
   "execution_count": 30,
   "metadata": {},
   "outputs": [],
   "source": [
    "model = Sequential()\n",
    "model.add(Dense(512, input_shape=(784,)))\n",
    "model.add(Activation('relu'))\n",
    "model.add(Dropout(0.2))\n",
    "model.add(Dense(512))\n",
    "model.add(Activation('relu'))\n",
    "model.add(Dropout(0.2))\n",
    "model.add(Dense(10))\n",
    "model.add(Activation('softmax'))"
   ]
  },
  {
   "cell_type": "markdown",
   "metadata": {},
   "source": [
    "<h1>Compilación del modelo</h1>\n",
    "<p>Al ser keras construido sobre tensorflow se pide que especifique la funcion de perdida y su optimizador el cual se van a utilizar como lo es la funcion:</p>\n",
    "<h3>categorical_crossentropy</h3>\n",
    "<p>Es una funcion de perdida la cual se maneja por medio de dimensiones entre clases para manejo de resultados en el cual todos los resultados deben de ser 0 excepto en 1 que corresponde a la clase de la muestra esto se maneja con el metodo anterior que fue \"to_categorical\" y que su funcion de activacion mejor es la softmax ya que arroja resultados de 0 a 1 y que este le permintira decidir cual es la mejor.</p>\n",
    "<h3>Adam</h3>\n",
    "<p>Es un algoritmo creado por uno de los desarrolladores de OpenAI el cual tiene como objetivo adaptar su taza de aprendizaje en medida de los resultados del modelo por varias capas, este algoritmo es muy bien funcional en donde si implemente reconocimiento de caracteres, analisis de sentimiento y en redes convolucionales que manejan reconocimiento de imagenes"
   ]
  },
  {
   "cell_type": "code",
   "execution_count": 31,
   "metadata": {},
   "outputs": [],
   "source": [
    "model.compile(loss='categorical_crossentropy', optimizer='adam')"
   ]
  },
  {
   "cell_type": "markdown",
   "metadata": {},
   "source": [
    "<h1>Entrenamiento del modelo</h1>\n",
    "<p>El modelo comenzara con su entrenamiento el cual constara con 4 iteraciones o numeros de epocas, mostrando el tiempo que tarda cada una, mostrara los valores de perdida y utilizara los datos de test para la validación</p>"
   ]
  },
  {
   "cell_type": "code",
   "execution_count": 40,
   "metadata": {},
   "outputs": [
    {
     "name": "stdout",
     "output_type": "stream",
     "text": [
      "WARNING:tensorflow:From E:\\Anaconda3\\envs\\Ambiente\\lib\\site-packages\\tensorflow\\python\\ops\\math_ops.py:3066: to_int32 (from tensorflow.python.ops.math_ops) is deprecated and will be removed in a future version.\n",
      "Instructions for updating:\n",
      "Use tf.cast instead.\n",
      "Train on 60000 samples, validate on 10000 samples\n",
      "Epoch 1/4\n",
      "60000/60000 [==============================] - 70s 1ms/step - loss: 0.2497 - val_loss: 0.1004\n",
      "Epoch 2/4\n",
      "60000/60000 [==============================] - 58s 972us/step - loss: 0.1004 - val_loss: 0.0802\n",
      "Epoch 3/4\n",
      "60000/60000 [==============================] - 60s 994us/step - loss: 0.0717 - val_loss: 0.0728\n",
      "Epoch 4/4\n",
      "60000/60000 [==============================] - 59s 979us/step - loss: 0.0557 - val_loss: 0.0809\n"
     ]
    },
    {
     "data": {
      "text/plain": [
       "<keras.callbacks.History at 0x283c03fd320>"
      ]
     },
     "execution_count": 40,
     "metadata": {},
     "output_type": "execute_result"
    }
   ],
   "source": [
    "model.fit(x=X_train, y=Y_train, batch_size=128, epochs=4, verbose=1, validation_data=(X_test, Y_test))"
   ]
  },
  {
   "cell_type": "markdown",
   "metadata": {},
   "source": [
    "<h1>Evaluación del entrenamiento</h1>"
   ]
  },
  {
   "cell_type": "code",
   "execution_count": 52,
   "metadata": {},
   "outputs": [
    {
     "name": "stdout",
     "output_type": "stream",
     "text": [
      "Puntuacion del test=  0.08085701481878059\n"
     ]
    }
   ],
   "source": [
    "score = model.evaluate(X_test, Y_test, verbose=0)\n",
    "print('Puntuacion del test= ',score)"
   ]
  },
  {
   "cell_type": "markdown",
   "metadata": {},
   "source": [
    "<h1>Generar predicciones con datos correctos (test)</h1>\n",
    "<p>se colocaran los datos que el esten correcto cosa que el si puede comprobar"
   ]
  },
  {
   "cell_type": "code",
   "execution_count": 73,
   "metadata": {},
   "outputs": [],
   "source": [
    "#Se daran los mismo datos de entrada como ejemplos\n",
    "predicted_classes = model.predict_classes(X_test)"
   ]
  },
  {
   "cell_type": "markdown",
   "metadata": {},
   "source": [
    "<h1>Comprobando resultados<h1>"
   ]
  },
  {
   "cell_type": "code",
   "execution_count": 72,
   "metadata": {},
   "outputs": [
    {
     "data": {
      "image/png": "[encoded data removed]",
      "text/plain": [
       "<Figure size 432x288 with 3 Axes>"
      ]
     },
     "metadata": {
      "needs_background": "light"
     },
     "output_type": "display_data"
    }
   ],
   "source": [
    "plt.figure()\n",
    "for i, correct in enumerate(correct_indices[9:12]):\n",
    "    plt.subplot(1,3,i+1)\n",
    "    plt.imshow(X_test[correct].reshape(28,28), cmap='gray', interpolation='none')\n",
    "    plt.title('Predicted:{},Class:{}'.format(predicted_classes[correct], y_test[correct]))"
   ]
  }
 ],
 "metadata": {
  "kernelspec": {
   "display_name": "Python 3",
   "language": "python",
   "name": "python3"
  }
 },
 "nbformat": 4,
 "nbformat_minor": 2
}
